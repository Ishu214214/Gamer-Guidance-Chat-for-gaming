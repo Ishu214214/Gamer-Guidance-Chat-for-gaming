{
 "cells": [
  {
   "cell_type": "code",
   "execution_count": 15,
   "metadata": {},
   "outputs": [
    {
     "name": "stdout",
     "output_type": "stream",
     "text": [
      "say\n",
      "\n",
      "say\n"
     ]
    }
   ],
   "source": [
    "import speech_recognition as sr\n",
    "import pyttsx3\n",
    "from nltk.chat.util import Chat\n",
    "import webbrowser as web\n",
    "\n",
    "\n",
    "qa_pairs = [    \n",
    "                ['(.*)name' ,                                               [ 'I am just a program, no personal name.' ] ]  ,    \n",
    "                ['where are you from',                                      ['I exist in the digital realm, no specific location.']] ,\n",
    "                ['what do you do',                                          ['I amm here to chat and assist you!', '']]    ,       \n",
    "                ['clap for me',                                             ['*program applauds*']]     ,\n",
    "                ['give me a high(.*)' ,                                     ['*virtual high-five*']]         ,                               \n",
    "                ['(how are you|how are you doing)',                         ['I am doing well, thank you!']]            ,\n",
    "                ['(what\\'s up|sup)',                                        ['Not much, just here to assist you!']]  ,   \n",
    "                ['tell me a joke',                                          ['Why did the programmer go broke? Because he used up all his cache!']]   ,\n",
    "                ['favorite game',                                           ['I dont play games, but I am here to help you with yours!']]   ,\n",
    "                ['give me a game tip(.*)',                                  ['Sure! For better scores, try to strategize your moves in advance.']]     ,         \n",
    "                ['(hi|HI|Hi|hey|HEY|Hey|HELLO|Hello|hello)',                [' \\t Hello  \\n  How can i help u'  ] ] ,            \n",
    "                ['(.*)contact(.*)' ,                                        ['call for more information ℹ '] ]   ,\n",
    "                ['(.*)search game(.*)' ,                                    ['it like to you have search somethings  ']    ] ,\n",
    "                ['(.*)open game(.*)' ,                                      ['it like to you have search somethings  ']    ] ,\n",
    "                ['thank you',                                               ['You are welcome!']]  ,\n",
    "                ['sorry(.*)',                                               ['No need to apologize! How can I assist you?']]    ,\n",
    "                ['please(.*)',                                              ['Sure, I can (1) for you. What else can I do?']]    ,\n",
    "                ['what level am (.*)',                                      ['You are currently on level high. Keep going!']]    ,\n",
    "                ['(.*)many points do (.*)',                                 ['You have (points) points. Great job!']]           ,\n",
    "                ['(.*) my achievements(.*)',                                ['You have achieved (achievement). Well done!']]    ,\n",
    "                ['(.*)',                                                    ['Sorry pleas say it again']  ]\n",
    "                \n",
    "            ]\n",
    "cb = Chat(qa_pairs)\n",
    "\n",
    "tts=pyttsx3.init()\n",
    "\n",
    "rec=sr.Recognizer()\n",
    "flag=False\n",
    "while True:\n",
    "    with sr.Microphone() as mic:\n",
    "        audio=rec.listen(mic,phrase_time_limit=3,timeout=5)\n",
    "        print('say')\n",
    "        try:\n",
    "            text=rec.recognize_google(audio).lower()\n",
    "\n",
    "            if flag==True:\n",
    "                if 'open game' in text or 'search game' in text:\n",
    "                    #this is addition line we can also remove these line \n",
    "                    # item = text.split('open')[-1].strip() if 'open' in text else text.split('search')[-1].strip()\n",
    "\n",
    "                    game1='https://poki.com/en/runner'\n",
    "                    game2='https://poki.com'\n",
    "                    game3='https://poki.com/en/g/temple-run-2'\n",
    "                    web.open_new(game1)\n",
    "                    web.open_new(game2)\n",
    "                    web.open_new(game3)\n",
    "                flag=False\n",
    "            else:\n",
    "                response= cb.respond(text)\n",
    "                tts.say(response)\n",
    "                tts.runAndWait()\n",
    "\n",
    "\n",
    "            \n",
    "            if 'open game' in text or 'search game' in text:\n",
    "                flag=True\n",
    "            # we have to comment out becouse if we say quit in between progmaiing the hole program will be distroy\n",
    "            \n",
    "            # elif 'quit' in text:\n",
    "            #     break\n",
    "        except Exception as err:\n",
    "            print(err)"
   ]
  },
  {
   "cell_type": "code",
   "execution_count": null,
   "metadata": {},
   "outputs": [],
   "source": []
  },
  {
   "cell_type": "code",
   "execution_count": null,
   "metadata": {},
   "outputs": [],
   "source": []
  },
  {
   "cell_type": "code",
   "execution_count": null,
   "metadata": {},
   "outputs": [],
   "source": []
  }
 ],
 "metadata": {
  "kernelspec": {
   "display_name": "Python 3",
   "language": "python",
   "name": "python3"
  },
  "language_info": {
   "codemirror_mode": {
    "name": "ipython",
    "version": 3
   },
   "file_extension": ".py",
   "mimetype": "text/x-python",
   "name": "python",
   "nbconvert_exporter": "python",
   "pygments_lexer": "ipython3",
   "version": "3.9.7"
  },
  "orig_nbformat": 4
 },
 "nbformat": 4,
 "nbformat_minor": 2
}
